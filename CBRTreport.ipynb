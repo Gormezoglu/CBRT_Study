{
 "cells": [
  {
   "cell_type": "code",
   "execution_count": 18,
   "metadata": {},
   "outputs": [],
   "source": [
    "from evds import evdsAPI\n",
    "from datetime import datetime\n",
    "import pandas as pd\n",
    "import numpy as np\n",
    "import matplotlib.pyplot as plt\n",
    "from matplotlib.ticker import (MultipleLocator, AutoMinorLocator)\n",
    "import seaborn as sns\n",
    "import keys"
   ]
  },
  {
   "cell_type": "code",
   "execution_count": 19,
   "metadata": {},
   "outputs": [],
   "source": [
    "key_cbrt = keys.CBRT_API"
   ]
  },
  {
   "cell_type": "code",
   "execution_count": 20,
   "metadata": {},
   "outputs": [
    {
     "name": "stdout",
     "output_type": "stream",
     "text": [
      "21-06-2023\n"
     ]
    }
   ],
   "source": [
    "today = datetime.today().strftime('%d-%m-%Y')\n",
    "print(today)"
   ]
  },
  {
   "cell_type": "code",
   "execution_count": 22,
   "metadata": {},
   "outputs": [
    {
     "ename": "EVDSConnectionError",
     "evalue": "Main categories couldn't load. Please check your API Key.",
     "output_type": "error",
     "traceback": [
      "\u001b[0;31m---------------------------------------------------------------------------\u001b[0m",
      "\u001b[0;31mValueError\u001b[0m                                Traceback (most recent call last)",
      "File \u001b[0;32m~/.python/current/lib/python3.10/site-packages/evds/__init__.py:42\u001b[0m, in \u001b[0;36mevdsAPI.__get_main_categories\u001b[0;34m(self)\u001b[0m\n\u001b[1;32m     41\u001b[0m main_categories_raw \u001b[39m=\u001b[39m json\u001b[39m.\u001b[39mloads(main_categories)\n\u001b[0;32m---> 42\u001b[0m main_categories_df \u001b[39m=\u001b[39m pd\u001b[39m.\u001b[39;49mDataFrame(main_categories_raw, dtype\u001b[39m=\u001b[39;49m\u001b[39m\"\u001b[39;49m\u001b[39mint\u001b[39;49m\u001b[39m\"\u001b[39;49m)[[\u001b[39m\"\u001b[39m\u001b[39mCATEGORY_ID\u001b[39m\u001b[39m\"\u001b[39m,\u001b[39m\"\u001b[39m\u001b[39mTOPIC_TITLE_\u001b[39m\u001b[39m\"\u001b[39m \u001b[39m+\u001b[39m \u001b[39mself\u001b[39m\u001b[39m.\u001b[39mlang]]\n\u001b[1;32m     43\u001b[0m \u001b[39mreturn\u001b[39;00m main_categories_df[\u001b[39m~\u001b[39mmain_categories_df\u001b[39m.\u001b[39mCATEGORY_ID\u001b[39m.\u001b[39misin(\u001b[39mself\u001b[39m\u001b[39m.\u001b[39mnot_available_categories)]\n",
      "File \u001b[0;32m~/.local/lib/python3.10/site-packages/pandas/core/frame.py:790\u001b[0m, in \u001b[0;36mDataFrame.__init__\u001b[0;34m(self, data, index, columns, dtype, copy)\u001b[0m\n\u001b[1;32m    782\u001b[0m     arrays, columns, index \u001b[39m=\u001b[39m nested_data_to_arrays(\n\u001b[1;32m    783\u001b[0m         \u001b[39m# error: Argument 3 to \"nested_data_to_arrays\" has incompatible\u001b[39;00m\n\u001b[1;32m    784\u001b[0m         \u001b[39m# type \"Optional[Collection[Any]]\"; expected \"Optional[Index]\"\u001b[39;00m\n\u001b[0;32m   (...)\u001b[0m\n\u001b[1;32m    788\u001b[0m         dtype,\n\u001b[1;32m    789\u001b[0m     )\n\u001b[0;32m--> 790\u001b[0m     mgr \u001b[39m=\u001b[39m arrays_to_mgr(\n\u001b[1;32m    791\u001b[0m         arrays,\n\u001b[1;32m    792\u001b[0m         columns,\n\u001b[1;32m    793\u001b[0m         index,\n\u001b[1;32m    794\u001b[0m         dtype\u001b[39m=\u001b[39;49mdtype,\n\u001b[1;32m    795\u001b[0m         typ\u001b[39m=\u001b[39;49mmanager,\n\u001b[1;32m    796\u001b[0m     )\n\u001b[1;32m    797\u001b[0m \u001b[39melse\u001b[39;00m:\n",
      "File \u001b[0;32m~/.local/lib/python3.10/site-packages/pandas/core/internals/construction.py:120\u001b[0m, in \u001b[0;36marrays_to_mgr\u001b[0;34m(arrays, columns, index, dtype, verify_integrity, typ, consolidate)\u001b[0m\n\u001b[1;32m    119\u001b[0m     \u001b[39m# don't force copy because getting jammed in an ndarray anyway\u001b[39;00m\n\u001b[0;32m--> 120\u001b[0m     arrays, refs \u001b[39m=\u001b[39m _homogenize(arrays, index, dtype)\n\u001b[1;32m    121\u001b[0m     \u001b[39m# _homogenize ensures\u001b[39;00m\n\u001b[1;32m    122\u001b[0m     \u001b[39m#  - all(len(x) == len(index) for x in arrays)\u001b[39;00m\n\u001b[1;32m    123\u001b[0m     \u001b[39m#  - all(x.ndim == 1 for x in arrays)\u001b[39;00m\n\u001b[0;32m   (...)\u001b[0m\n\u001b[1;32m    126\u001b[0m \n\u001b[1;32m    127\u001b[0m \u001b[39melse\u001b[39;00m:\n",
      "File \u001b[0;32m~/.local/lib/python3.10/site-packages/pandas/core/internals/construction.py:607\u001b[0m, in \u001b[0;36m_homogenize\u001b[0;34m(data, index, dtype)\u001b[0m\n\u001b[1;32m    605\u001b[0m     val \u001b[39m=\u001b[39m lib\u001b[39m.\u001b[39mfast_multiget(val, oindex\u001b[39m.\u001b[39m_values, default\u001b[39m=\u001b[39mnp\u001b[39m.\u001b[39mnan)\n\u001b[0;32m--> 607\u001b[0m val \u001b[39m=\u001b[39m sanitize_array(val, index, dtype\u001b[39m=\u001b[39;49mdtype, copy\u001b[39m=\u001b[39;49m\u001b[39mFalse\u001b[39;49;00m)\n\u001b[1;32m    608\u001b[0m com\u001b[39m.\u001b[39mrequire_length_match(val, index)\n",
      "File \u001b[0;32m~/.local/lib/python3.10/site-packages/pandas/core/construction.py:576\u001b[0m, in \u001b[0;36msanitize_array\u001b[0;34m(data, index, dtype, copy, allow_2d)\u001b[0m\n\u001b[1;32m    574\u001b[0m     \u001b[39melse\u001b[39;00m:\n\u001b[1;32m    575\u001b[0m         \u001b[39m# we will try to copy by-definition here\u001b[39;00m\n\u001b[0;32m--> 576\u001b[0m         subarr \u001b[39m=\u001b[39m _try_cast(data, dtype, copy)\n\u001b[1;32m    578\u001b[0m \u001b[39melif\u001b[39;00m \u001b[39mhasattr\u001b[39m(data, \u001b[39m\"\u001b[39m\u001b[39m__array__\u001b[39m\u001b[39m\"\u001b[39m):\n\u001b[1;32m    579\u001b[0m     \u001b[39m# e.g. dask array GH#38645\u001b[39;00m\n",
      "File \u001b[0;32m~/.local/lib/python3.10/site-packages/pandas/core/construction.py:763\u001b[0m, in \u001b[0;36m_try_cast\u001b[0;34m(arr, dtype, copy)\u001b[0m\n\u001b[1;32m    760\u001b[0m \u001b[39melif\u001b[39;00m is_integer_dtype(dtype):\n\u001b[1;32m    761\u001b[0m     \u001b[39m# this will raise if we have e.g. floats\u001b[39;00m\n\u001b[0;32m--> 763\u001b[0m     subarr \u001b[39m=\u001b[39m maybe_cast_to_integer_array(arr, dtype)\n\u001b[1;32m    764\u001b[0m \u001b[39melse\u001b[39;00m:\n",
      "File \u001b[0;32m~/.local/lib/python3.10/site-packages/pandas/core/dtypes/cast.py:1637\u001b[0m, in \u001b[0;36mmaybe_cast_to_integer_array\u001b[0;34m(arr, dtype)\u001b[0m\n\u001b[1;32m   1636\u001b[0m             warnings\u001b[39m.\u001b[39mfilterwarnings(\u001b[39m\"\u001b[39m\u001b[39mignore\u001b[39m\u001b[39m\"\u001b[39m, category\u001b[39m=\u001b[39m\u001b[39mRuntimeWarning\u001b[39;00m)\n\u001b[0;32m-> 1637\u001b[0m             casted \u001b[39m=\u001b[39m arr\u001b[39m.\u001b[39;49mastype(dtype, copy\u001b[39m=\u001b[39;49m\u001b[39mFalse\u001b[39;49;00m)\n\u001b[1;32m   1638\u001b[0m \u001b[39mexcept\u001b[39;00m \u001b[39mOverflowError\u001b[39;00m \u001b[39mas\u001b[39;00m err:\n",
      "\u001b[0;31mValueError\u001b[0m: invalid literal for int() with base 10: 'MARKET STATISTICS'",
      "\nDuring handling of the above exception, another exception occurred:\n",
      "\u001b[0;31mEVDSConnectionError\u001b[0m                       Traceback (most recent call last)",
      "Cell \u001b[0;32mIn[22], line 1\u001b[0m\n\u001b[0;32m----> 1\u001b[0m evds \u001b[39m=\u001b[39m evdsAPI(key_cbrt)\n\u001b[1;32m      3\u001b[0m df \u001b[39m=\u001b[39m pd\u001b[39m.\u001b[39mDataFrame(data \u001b[39m=\u001b[39m evds\u001b[39m.\u001b[39mget_data([\u001b[39m'\u001b[39m\u001b[39mTP.DK.USD.A.YTL\u001b[39m\u001b[39m'\u001b[39m,\u001b[39m'\u001b[39m\u001b[39mTP.DK.EUR.A.YTL\u001b[39m\u001b[39m'\u001b[39m], startdate\u001b[39m=\u001b[39m\u001b[39m\"\u001b[39m\u001b[39m01-01-2016\u001b[39m\u001b[39m\"\u001b[39m, enddate\u001b[39m=\u001b[39mtoday))\n\u001b[1;32m      5\u001b[0m df_dropped \u001b[39m=\u001b[39m df\u001b[39m.\u001b[39mdropna()\n",
      "File \u001b[0;32m~/.python/current/lib/python3.10/site-packages/evds/__init__.py:32\u001b[0m, in \u001b[0;36mevdsAPI.__init__\u001b[0;34m(self, key, lang, DEBUG, proxies, httpsVerify)\u001b[0m\n\u001b[1;32m     29\u001b[0m \u001b[39m# API returns this main categories but they are not available\u001b[39;00m\n\u001b[1;32m     30\u001b[0m \u001b[39mself\u001b[39m\u001b[39m.\u001b[39mnot_available_categories \u001b[39m=\u001b[39m [\u001b[39m17\u001b[39m]\n\u001b[0;32m---> 32\u001b[0m \u001b[39mself\u001b[39m\u001b[39m.\u001b[39mmain_categories \u001b[39m=\u001b[39m \u001b[39mself\u001b[39;49m\u001b[39m.\u001b[39;49m__get_main_categories()\n",
      "File \u001b[0;32m~/.python/current/lib/python3.10/site-packages/evds/__init__.py:46\u001b[0m, in \u001b[0;36mevdsAPI.__get_main_categories\u001b[0;34m(self)\u001b[0m\n\u001b[1;32m     43\u001b[0m     \u001b[39mreturn\u001b[39;00m main_categories_df[\u001b[39m~\u001b[39mmain_categories_df\u001b[39m.\u001b[39mCATEGORY_ID\u001b[39m.\u001b[39misin(\u001b[39mself\u001b[39m\u001b[39m.\u001b[39mnot_available_categories)]\n\u001b[1;32m     45\u001b[0m \u001b[39mexcept\u001b[39;00m:\n\u001b[0;32m---> 46\u001b[0m     \u001b[39mraise\u001b[39;00m EVDSConnectionError(\u001b[39mf\u001b[39m\u001b[39m\"\u001b[39m\u001b[39mMain categories couldn\u001b[39m\u001b[39m'\u001b[39m\u001b[39mt load. Please check your API Key.\u001b[39m\u001b[39m\"\u001b[39m)\n",
      "\u001b[0;31mEVDSConnectionError\u001b[0m: Main categories couldn't load. Please check your API Key."
     ]
    }
   ],
   "source": [
    "evds = evdsAPI(key_cbrt)\n",
    "\n",
    "df = pd.DataFrame(data = evds.get_data(['TP.DK.USD.A.YTL','TP.DK.EUR.A.YTL'], startdate=\"01-01-2016\", enddate=today))\n",
    "\n",
    "df_dropped = df.dropna()\n",
    "\n",
    "df_dropped_rev = df_dropped[::-1]\n",
    "\n",
    "df_dropped_rev\n"
   ]
  },
  {
   "cell_type": "code",
   "execution_count": null,
   "metadata": {},
   "outputs": [],
   "source": [
    "\"\"\"\"\n",
    "g = sns.relplot(x=\"Tarih\", y=\"TP_DK_USD_A_YTL\", kind=\"line\", data=df_dropped)\n",
    "g.figure.autofmt_xdate()\n",
    "\n",
    "\"\"\"\n"
   ]
  },
  {
   "cell_type": "code",
   "execution_count": null,
   "metadata": {},
   "outputs": [],
   "source": [
    "#plt.plot(df_dropped['Tarih'],df_dropped['TP_DK_USD_A_YTL'])\n",
    "#plt.xlabel(\"Tarih\")\n",
    "#plt.ylabel(\"Kur\")\n",
    "#plt.title('2016-2022 USDTRY Kuru')\n",
    "\n",
    "t= df_dropped['Tarih']\n",
    "s= df_dropped['TP_DK_USD_A_YTL']\n",
    "\n",
    "\n",
    "fig, ax = plt.subplots()\n",
    "ax.plot(t, s)\n",
    "\n",
    "ax.xaxis.grid(True, which='major')\n",
    "\n",
    "ax.xaxis.set_major_locator(MultipleLocator(360))\n",
    "\n",
    "\n",
    "ax.xaxis.set_minor_locator(MultipleLocator(30))\n",
    "\n",
    "\n",
    "\n",
    "\n",
    "plt.show()"
   ]
  },
  {
   "attachments": {},
   "cell_type": "markdown",
   "metadata": {},
   "source": [
    "We can also get data by main categories."
   ]
  },
  {
   "cell_type": "code",
   "execution_count": null,
   "metadata": {},
   "outputs": [],
   "source": [
    "evds.main_categories"
   ]
  },
  {
   "cell_type": "code",
   "execution_count": null,
   "metadata": {},
   "outputs": [],
   "source": [
    "evds.get_sub_categories(3)"
   ]
  },
  {
   "cell_type": "code",
   "execution_count": null,
   "metadata": {},
   "outputs": [],
   "source": [
    "evds.get_series(\"bie_abanlbil\", \"01-01-2016\", today)"
   ]
  },
  {
   "cell_type": "code",
   "execution_count": null,
   "metadata": {},
   "outputs": [],
   "source": [
    "evds.get_data(['TP.MENKUL.L006'],\"01-01-2016\",today)"
   ]
  },
  {
   "cell_type": "code",
   "execution_count": null,
   "metadata": {},
   "outputs": [],
   "source": [
    "t= df_dropped['Tarih']\n",
    "s= df_dropped['TP.MENKUL.L006']\n",
    "\n",
    "\n",
    "fig, ax = plt.subplots()\n",
    "ax.plot(t, s)\n",
    "\n",
    "ax.xaxis.grid(True, which='major')\n",
    "\n",
    "ax.xaxis.set_major_locator(MultipleLocator(360))\n",
    "\n",
    "\n",
    "ax.xaxis.set_minor_locator(MultipleLocator(30))\n",
    "\n",
    "\n",
    "\n",
    "\n",
    "plt.show()"
   ]
  },
  {
   "cell_type": "code",
   "execution_count": null,
   "metadata": {},
   "outputs": [],
   "source": []
  }
 ],
 "metadata": {
  "interpreter": {
   "hash": "a444b34812e551184dbd61c58c327c6005444651d63e544adac60486881c271e"
  },
  "kernelspec": {
   "display_name": "Python 3.9.1 64-bit",
   "language": "python",
   "name": "python3"
  },
  "language_info": {
   "codemirror_mode": {
    "name": "ipython",
    "version": 3
   },
   "file_extension": ".py",
   "mimetype": "text/x-python",
   "name": "python",
   "nbconvert_exporter": "python",
   "pygments_lexer": "ipython3",
   "version": "3.10.8"
  },
  "orig_nbformat": 4
 },
 "nbformat": 4,
 "nbformat_minor": 2
}
