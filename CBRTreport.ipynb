{
 "cells": [
  {
   "cell_type": "code",
   "execution_count": 40,
   "metadata": {},
   "outputs": [],
   "source": [
    "from evds import evdsAPI\n",
    "from datetime import datetime\n",
    "import pandas as pd\n",
    "import numpy as np\n",
    "import matplotlib.pyplot as plt\n",
    "from matplotlib.ticker import (MultipleLocator, AutoMinorLocator)\n",
    "import seaborn as sns\n",
    "import keys"
   ]
  },
  {
   "cell_type": "code",
   "execution_count": 41,
   "metadata": {},
   "outputs": [],
   "source": [
    "key_cbrt = keys.CBRT_API"
   ]
  },
  {
   "cell_type": "code",
   "execution_count": 42,
   "metadata": {},
   "outputs": [
    {
     "name": "stdout",
     "output_type": "stream",
     "text": [
      "31-01-2022\n"
     ]
    }
   ],
   "source": [
    "today = datetime.today().strftime('%d-%m-%Y')\n",
    "print(today)"
   ]
  },
  {
   "cell_type": "code",
   "execution_count": 43,
   "metadata": {},
   "outputs": [
    {
     "data": {
      "text/html": [
       "<div>\n",
       "<style scoped>\n",
       "    .dataframe tbody tr th:only-of-type {\n",
       "        vertical-align: middle;\n",
       "    }\n",
       "\n",
       "    .dataframe tbody tr th {\n",
       "        vertical-align: top;\n",
       "    }\n",
       "\n",
       "    .dataframe thead th {\n",
       "        text-align: right;\n",
       "    }\n",
       "</style>\n",
       "<table border=\"1\" class=\"dataframe\">\n",
       "  <thead>\n",
       "    <tr style=\"text-align: right;\">\n",
       "      <th></th>\n",
       "      <th>Tarih</th>\n",
       "      <th>TP_DK_USD_A_YTL</th>\n",
       "      <th>TP_DK_EUR_A_YTL</th>\n",
       "    </tr>\n",
       "  </thead>\n",
       "  <tbody>\n",
       "    <tr>\n",
       "      <th>2222</th>\n",
       "      <td>31-01-2022</td>\n",
       "      <td>13.6066</td>\n",
       "      <td>15.1536</td>\n",
       "    </tr>\n",
       "    <tr>\n",
       "      <th>2219</th>\n",
       "      <td>28-01-2022</td>\n",
       "      <td>13.5932</td>\n",
       "      <td>15.2159</td>\n",
       "    </tr>\n",
       "    <tr>\n",
       "      <th>2218</th>\n",
       "      <td>27-01-2022</td>\n",
       "      <td>13.5029</td>\n",
       "      <td>15.2404</td>\n",
       "    </tr>\n",
       "    <tr>\n",
       "      <th>2217</th>\n",
       "      <td>26-01-2022</td>\n",
       "      <td>13.5000</td>\n",
       "      <td>15.2425</td>\n",
       "    </tr>\n",
       "    <tr>\n",
       "      <th>2216</th>\n",
       "      <td>25-01-2022</td>\n",
       "      <td>13.3846</td>\n",
       "      <td>15.1506</td>\n",
       "    </tr>\n",
       "    <tr>\n",
       "      <th>...</th>\n",
       "      <td>...</td>\n",
       "      <td>...</td>\n",
       "      <td>...</td>\n",
       "    </tr>\n",
       "    <tr>\n",
       "      <th>7</th>\n",
       "      <td>08-01-2016</td>\n",
       "      <td>3.0167</td>\n",
       "      <td>3.2688</td>\n",
       "    </tr>\n",
       "    <tr>\n",
       "      <th>6</th>\n",
       "      <td>07-01-2016</td>\n",
       "      <td>3.0040</td>\n",
       "      <td>3.2255</td>\n",
       "    </tr>\n",
       "    <tr>\n",
       "      <th>5</th>\n",
       "      <td>06-01-2016</td>\n",
       "      <td>2.9750</td>\n",
       "      <td>3.2061</td>\n",
       "    </tr>\n",
       "    <tr>\n",
       "      <th>4</th>\n",
       "      <td>05-01-2016</td>\n",
       "      <td>2.9422</td>\n",
       "      <td>3.2116</td>\n",
       "    </tr>\n",
       "    <tr>\n",
       "      <th>3</th>\n",
       "      <td>04-01-2016</td>\n",
       "      <td>2.9181</td>\n",
       "      <td>3.1838</td>\n",
       "    </tr>\n",
       "  </tbody>\n",
       "</table>\n",
       "<p>1526 rows × 3 columns</p>\n",
       "</div>"
      ],
      "text/plain": [
       "           Tarih  TP_DK_USD_A_YTL  TP_DK_EUR_A_YTL\n",
       "2222  31-01-2022          13.6066          15.1536\n",
       "2219  28-01-2022          13.5932          15.2159\n",
       "2218  27-01-2022          13.5029          15.2404\n",
       "2217  26-01-2022          13.5000          15.2425\n",
       "2216  25-01-2022          13.3846          15.1506\n",
       "...          ...              ...              ...\n",
       "7     08-01-2016           3.0167           3.2688\n",
       "6     07-01-2016           3.0040           3.2255\n",
       "5     06-01-2016           2.9750           3.2061\n",
       "4     05-01-2016           2.9422           3.2116\n",
       "3     04-01-2016           2.9181           3.1838\n",
       "\n",
       "[1526 rows x 3 columns]"
      ]
     },
     "execution_count": 43,
     "metadata": {},
     "output_type": "execute_result"
    }
   ],
   "source": [
    "evds = evdsAPI(key_cbrt)\n",
    "\n",
    "df = pd.DataFrame(data = evds.get_data(['TP.DK.USD.A.YTL','TP.DK.EUR.A.YTL'], startdate=\"01-01-2016\", enddate=today))\n",
    "\n",
    "df_dropped = df.dropna()\n",
    "\n",
    "df_dropped_rev = df_dropped[::-1]\n",
    "\n",
    "df_dropped_rev\n"
   ]
  },
  {
   "cell_type": "code",
   "execution_count": 44,
   "metadata": {},
   "outputs": [
    {
     "data": {
      "text/plain": [
       "'\"\\ng = sns.relplot(x=\"Tarih\", y=\"TP_DK_USD_A_YTL\", kind=\"line\", data=df_dropped)\\ng.figure.autofmt_xdate()\\n\\n'"
      ]
     },
     "execution_count": 44,
     "metadata": {},
     "output_type": "execute_result"
    }
   ],
   "source": [
    "\"\"\"\"\n",
    "g = sns.relplot(x=\"Tarih\", y=\"TP_DK_USD_A_YTL\", kind=\"line\", data=df_dropped)\n",
    "g.figure.autofmt_xdate()\n",
    "\n",
    "\"\"\"\n"
   ]
  },
  {
   "cell_type": "code",
   "execution_count": 55,
   "metadata": {},
   "outputs": [
    {
     "data": {
      "image/png": "[encoded data removed]",
      "text/plain": [
       "<Figure size 432x288 with 1 Axes>"
      ]
     },
     "metadata": {
      "needs_background": "light"
     },
     "output_type": "display_data"
    }
   ],
   "source": [
    "#plt.plot(df_dropped['Tarih'],df_dropped['TP_DK_USD_A_YTL'])\n",
    "#plt.xlabel(\"Tarih\")\n",
    "#plt.ylabel(\"Kur\")\n",
    "#plt.title('2016-2022 USDTRY Kuru')\n",
    "\n",
    "t= df_dropped['Tarih']\n",
    "s= df_dropped['TP_DK_USD_A_YTL']\n",
    "\n",
    "\n",
    "fig, ax = plt.subplots()\n",
    "ax.plot(t, s)\n",
    "\n",
    "#ax.xaxis.grid(True, which='minor')\n",
    "\n",
    "ax.xaxis.set_major_locator(MultipleLocator(360))\n",
    "#ax.xaxis.set_major_formatter('{x:%y}')\n",
    "\n",
    "ax.xaxis.set_minor_locator(MultipleLocator(30))\n",
    "\n",
    "\n",
    "\n",
    "\n",
    "plt.show()"
   ]
  },
  {
   "cell_type": "markdown",
   "metadata": {},
   "source": [
    "We can also get data by main categories."
   ]
  },
  {
   "cell_type": "code",
   "execution_count": null,
   "metadata": {},
   "outputs": [],
   "source": [
    "evds.main_categories"
   ]
  },
  {
   "cell_type": "code",
   "execution_count": null,
   "metadata": {},
   "outputs": [],
   "source": [
    "evds.get_sub_categories(20)"
   ]
  },
  {
   "cell_type": "code",
   "execution_count": null,
   "metadata": {},
   "outputs": [],
   "source": [
    "evds.get_series('bie_kbicborc')"
   ]
  },
  {
   "cell_type": "code",
   "execution_count": null,
   "metadata": {},
   "outputs": [],
   "source": []
  }
 ],
 "metadata": {
  "interpreter": {
   "hash": "a444b34812e551184dbd61c58c327c6005444651d63e544adac60486881c271e"
  },
  "kernelspec": {
   "display_name": "Python 3.9.1 64-bit",
   "language": "python",
   "name": "python3"
  },
  "language_info": {
   "codemirror_mode": {
    "name": "ipython",
    "version": 3
   },
   "file_extension": ".py",
   "mimetype": "text/x-python",
   "name": "python",
   "nbconvert_exporter": "python",
   "pygments_lexer": "ipython3",
   "version": "3.9.1"
  },
  "orig_nbformat": 4
 },
 "nbformat": 4,
 "nbformat_minor": 2
}
